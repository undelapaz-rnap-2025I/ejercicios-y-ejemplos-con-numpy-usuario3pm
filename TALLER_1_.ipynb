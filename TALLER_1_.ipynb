{
  "nbformat": 4,
  "nbformat_minor": 0,
  "metadata": {
    "colab": {
      "provenance": []
    },
    "kernelspec": {
      "name": "python3",
      "display_name": "Python 3"
    },
    "language_info": {
      "name": "python"
    }
  },
  "cells": [
    {
      "cell_type": "code",
      "execution_count": 1,
      "metadata": {
        "colab": {
          "base_uri": "https://localhost:8080/"
        },
        "id": "GKcLWPr3G9RV",
        "outputId": "44b7d53c-4d6d-42b9-8c25-09a71210e074"
      },
      "outputs": [
        {
          "output_type": "stream",
          "name": "stdout",
          "text": [
            "indexio del segundo es:  30\n",
            "\n",
            "slicing:  [20 30 40]\n",
            "\n",
            "Indexing_2D_Arrays:  6\n",
            "\n",
            "Slicing_2D_Arrays: \n",
            " [[2 3]\n",
            " [5 6]]\n"
          ]
        }
      ],
      "source": [
        "import numpy as np\n",
        "\n",
        "arr = np.array([10, 20, 30, 40, 50])\n",
        "print(\"indexio del segundo es: \",arr[2]) # Output: 30\n",
        "print()\n",
        "\n",
        "#Slicingo rebanado:\n",
        "arr = np.array([10, 20, 30, 40, 50])\n",
        "print(\"slicing: \",arr[1:4]) # Output: [20 30 40]\n",
        "print()\n",
        "\n",
        "#Indexing_2D_Arrays:\n",
        "arr = np.array([[1, 2, 3],\n",
        "               [4, 5, 6],\n",
        "                [7, 8, 9]])\n",
        "print(\"Indexing_2D_Arrays: \",arr[1, 2]) # Output: 6\n",
        "print()\n",
        "#Slicing_2D_Arrays:\n",
        "arr = np.array([[1, 2, 3], [4, 5, 6], [7, 8, 9]])\n",
        "print(\"Slicing_2D_Arrays: \\n\",arr[:2, 1:]) # Output: [[2 3] [5 6]]\n"
      ]
    },
    {
      "cell_type": "code",
      "source": [
        "#5. 3D Tensor Indexing:\n",
        "tensor = np.array([[[1, 2, 3],[4, 5, 6]],\n",
        "                   # indice 1\n",
        "                   [[7, 8, 9],[10, 11, 12]],\n",
        "                   # indice 2\n",
        "                   [[13, 14, 15], [16, 17, 18]]])\n",
        "\n",
        "# Accesso specificos elementos\n",
        "print(\"elemento en la posición 1,0,2: \",tensor[1, 0, 2]) # Output: 9\n",
        "print(\"elemento en la posición 2,1,0: \",tensor[2,1,0])# output 16\n",
        "\n",
        "# Accesso a un vector o \"slice\" (2D submatrix)\n",
        "print(\"vector en la posición 1: \\n\",tensor[1]) # Output: [[ 7 8 9] [10 11 12]]\n"
      ],
      "metadata": {
        "colab": {
          "base_uri": "https://localhost:8080/"
        },
        "id": "9aUCDOBMbIyB",
        "outputId": "54efacff-cc97-4a6b-e202-d1573d1337e2"
      },
      "execution_count": 2,
      "outputs": [
        {
          "output_type": "stream",
          "name": "stdout",
          "text": [
            "elemento en la posición 1,0,2:  9\n",
            "elemento en la posición 2,1,0:  16\n",
            "vector en la posición 1: \n",
            " [[ 7  8  9]\n",
            " [10 11 12]]\n"
          ]
        }
      ]
    },
    {
      "cell_type": "code",
      "source": [
        "#6. Slicing a 3D Tensor:\n",
        "tensor = np.arange(27).reshape(3, 3, 3)\n",
        "print(tensor)\n",
        "# Slice along the first dimension\n",
        "#print(tensor[1]) # Output: 3x3 submatrix\n",
        "\n",
        "# Slice along the second dimension\n",
        "#print(tensor[:, 1, :]) # Output: 3x3 submatrix\n",
        "\n",
        "# Slice along the third dimension\n",
        "#print(tensor[:, :, 2]) # Output: 3x3 submatrix"
      ],
      "metadata": {
        "id": "JCUmvwK5VSRN",
        "colab": {
          "base_uri": "https://localhost:8080/"
        },
        "outputId": "2fd70512-af05-48e3-9029-791f250a07d3"
      },
      "execution_count": 3,
      "outputs": [
        {
          "output_type": "stream",
          "name": "stdout",
          "text": [
            "[[[ 0  1  2]\n",
            "  [ 3  4  5]\n",
            "  [ 6  7  8]]\n",
            "\n",
            " [[ 9 10 11]\n",
            "  [12 13 14]\n",
            "  [15 16 17]]\n",
            "\n",
            " [[18 19 20]\n",
            "  [21 22 23]\n",
            "  [24 25 26]]]\n"
          ]
        }
      ]
    },
    {
      "cell_type": "code",
      "source": [
        "#7. 4D Tensor Indexing:\n",
        "tensor = np.arange(48).reshape(2, 3, 2, 4)\n",
        "# Access specific elements\n",
        "print(tensor[1, 2, 0, 3]) # Output: 47\n",
        "# Access a whole \"block\" (3D sub-tensor)\n",
        "print(tensor[1, 2]) # Output: 2x4x3 sub-tensor"
      ],
      "metadata": {
        "colab": {
          "base_uri": "https://localhost:8080/"
        },
        "id": "uYUPwom1dKq3",
        "outputId": "b7e699da-e4e4-420c-847f-94101553e501"
      },
      "execution_count": 4,
      "outputs": [
        {
          "output_type": "stream",
          "name": "stdout",
          "text": [
            "43\n",
            "[[40 41 42 43]\n",
            " [44 45 46 47]]\n"
          ]
        }
      ]
    },
    {
      "cell_type": "code",
      "source": [
        "#8. Slicing a 4D Tensor:\n",
        "tensor = np.arange(48).reshape(2, 3, 2, 4)\n",
        "# Slice along the first dimension\n",
        "\n",
        "print(tensor[1]) # Output: 3x2x4 sub-tensor\n",
        "# Slice along the second dimension\n",
        "print(tensor[:, 2, :, :]) # Output: 2x2x4 sub-tensor\n",
        "# Slice along the third dimension\n",
        "print(tensor[:, :, 0, :]) # Output: 2x3x4 sub-tensor"
      ],
      "metadata": {
        "colab": {
          "base_uri": "https://localhost:8080/"
        },
        "id": "HBSKNGzndNka",
        "outputId": "ccf7521b-ef86-44ef-a5ae-10ab7b79924c"
      },
      "execution_count": 5,
      "outputs": [
        {
          "output_type": "stream",
          "name": "stdout",
          "text": [
            "[[[24 25 26 27]\n",
            "  [28 29 30 31]]\n",
            "\n",
            " [[32 33 34 35]\n",
            "  [36 37 38 39]]\n",
            "\n",
            " [[40 41 42 43]\n",
            "  [44 45 46 47]]]\n",
            "[[[16 17 18 19]\n",
            "  [20 21 22 23]]\n",
            "\n",
            " [[40 41 42 43]\n",
            "  [44 45 46 47]]]\n",
            "[[[ 0  1  2  3]\n",
            "  [ 8  9 10 11]\n",
            "  [16 17 18 19]]\n",
            "\n",
            " [[24 25 26 27]\n",
            "  [32 33 34 35]\n",
            "  [40 41 42 43]]]\n"
          ]
        }
      ]
    },
    {
      "cell_type": "code",
      "source": [
        "#9. Matrix Addition:\n",
        "A = np.array([[1, 2], [3, 4]])\n",
        "B = np.array([[5, 6], [7, 8]])\n",
        "result = A + B\n",
        "print(result)"
      ],
      "metadata": {
        "colab": {
          "base_uri": "https://localhost:8080/"
        },
        "id": "4BqAB7MRdQGo",
        "outputId": "41e7b67d-fa13-4bdb-9586-3c49cdfb4653"
      },
      "execution_count": 6,
      "outputs": [
        {
          "output_type": "stream",
          "name": "stdout",
          "text": [
            "[[ 6  8]\n",
            " [10 12]]\n"
          ]
        }
      ]
    },
    {
      "cell_type": "code",
      "source": [
        "#10. Matrix Multiplication:\n",
        "A = np.array([[1, 2], [3, 4]])\n",
        "B = np.array([[5, 6], [7, 8]])\n",
        "result = np.dot(A, B)\n",
        "print(result)"
      ],
      "metadata": {
        "colab": {
          "base_uri": "https://localhost:8080/"
        },
        "id": "VasmRj0ldSx-",
        "outputId": "ef2eaeeb-060f-4d72-c913-9c6df372e61a"
      },
      "execution_count": 7,
      "outputs": [
        {
          "output_type": "stream",
          "name": "stdout",
          "text": [
            "[[19 22]\n",
            " [43 50]]\n"
          ]
        }
      ]
    },
    {
      "cell_type": "code",
      "source": [
        "#11. Transpose of a Matrix:\n",
        "A = np.array([[1, 2], [3, 4]])\n",
        "result = np.transpose(A)\n",
        "print(result)"
      ],
      "metadata": {
        "colab": {
          "base_uri": "https://localhost:8080/"
        },
        "id": "4lKp3rOHdVvB",
        "outputId": "38198d1d-2796-4b81-9238-7b2fff094b8e"
      },
      "execution_count": 8,
      "outputs": [
        {
          "output_type": "stream",
          "name": "stdout",
          "text": [
            "[[1 3]\n",
            " [2 4]]\n"
          ]
        }
      ]
    },
    {
      "cell_type": "code",
      "source": [
        "#12. Matrix Determinant and Inverse:\n",
        "A = np.array([[1, 2], [3, 4]])\n",
        "det = np.linalg.det(A)\n",
        "inverse = np.linalg.inv(A)\n",
        "print(\"Determinant:\", det)\n",
        "print(\"Inverse:\\n\", inverse)"
      ],
      "metadata": {
        "colab": {
          "base_uri": "https://localhost:8080/"
        },
        "id": "RV99Ro6IdYTT",
        "outputId": "4aa617c5-adf9-4c7c-fd70-ac7d920aa5a2"
      },
      "execution_count": 9,
      "outputs": [
        {
          "output_type": "stream",
          "name": "stdout",
          "text": [
            "Determinant: -2.0000000000000004\n",
            "Inverse:\n",
            " [[-2.   1. ]\n",
            " [ 1.5 -0.5]]\n"
          ]
        }
      ]
    },
    {
      "cell_type": "code",
      "source": [
        "#13. Eigenvalues and Eigenvectors:\n",
        "A = np.array([[1, -1], [1, 3]])\n",
        "eigenvalues, eigenvectors = np.linalg.eig(A)\n",
        "print(\"Eigenvalues:\", eigenvalues)\n",
        "print(\"Eigenvectors:\\n\", eigenvectors)"
      ],
      "metadata": {
        "colab": {
          "base_uri": "https://localhost:8080/"
        },
        "id": "l22byeZ_danA",
        "outputId": "14a02401-8104-4842-b293-59ef6ac7bc98"
      },
      "execution_count": 10,
      "outputs": [
        {
          "output_type": "stream",
          "name": "stdout",
          "text": [
            "Eigenvalues: [2.00000002 1.99999998]\n",
            "Eigenvectors:\n",
            " [[-0.70710677 -0.70710679]\n",
            " [ 0.70710679  0.70710677]]\n"
          ]
        }
      ]
    },
    {
      "cell_type": "code",
      "source": [
        "#14. Solving Linear Equations:\n",
        "\n",
        "A = np.array([[2, 1], [1, 1]])\n",
        "b = np.array([3, 2])\n",
        "solution = np.linalg.solve(A, b)\n",
        "print(\"Solution:\", solution)"
      ],
      "metadata": {
        "colab": {
          "base_uri": "https://localhost:8080/"
        },
        "id": "qQmWreyideTY",
        "outputId": "625ae71a-b216-4e86-c3f5-3a318c311959"
      },
      "execution_count": 11,
      "outputs": [
        {
          "output_type": "stream",
          "name": "stdout",
          "text": [
            "Solution: [1. 1.]\n"
          ]
        }
      ]
    },
    {
      "cell_type": "markdown",
      "source": [
        "15. Gradient descent optimization: Given the dataset X and y:\n",
        "\n",
        "X =\n",
        "\n",
        "\n",
        "\n",
        "\n",
        "\n",
        "x\n",
        "(1)\n",
        "x\n",
        "(2)\n",
        ".\n",
        ".\n",
        ".\n",
        "x\n",
        "(m)\n",
        "\n",
        "\n",
        "\n",
        "\n",
        "\n",
        ", y =\n",
        "\n",
        "\n",
        "\n",
        "\n",
        "\n",
        "y\n",
        "(1)\n",
        "y\n",
        "(2)\n",
        ".\n",
        ".\n",
        ".\n",
        "y\n",
        "(m)\n",
        "\n",
        "\n",
        "\n",
        "\n",
        "\n",
        "\n",
        "Where m is the number of samples.\n",
        "The linear regression model is defined as:\n",
        "hθ(x) = θ0 + θ1x\n",
        "We add a bias term to the features, creating Xb:\n",
        "\n",
        "Xb =\n",
        "\n",
        "\n",
        "\n",
        "\n",
        "\n",
        "1 x\n",
        "(1)\n",
        "1 x\n",
        "(2)\n",
        ".\n",
        ".\n",
        ".\n",
        ".\n",
        ".\n",
        ".\n",
        "1 x\n",
        "(m)\n",
        "\n",
        "\n",
        "\n",
        "\n",
        "\n",
        "The goal is to minimize the mean squared error:\n",
        "\n",
        "J(θ) = 1\n",
        "2m\n",
        "Xm\n",
        "i=1\n",
        "(hθ(x\n",
        "(i)\n",
        ") − y\n",
        "(i)\n",
        ")\n",
        "2\n",
        "\n",
        "Gradient Descent updates the parameters θ using the gradients:\n",
        "\n",
        "θ := θ − α∇J(θ)\n",
        "\n",
        "Where α is the learning rate.\n",
        "The gradient ∇J(θ) with respect to θ is calculated as:\n",
        "\n",
        "∇J(θ) = 1\n",
        "m\n",
        "XT\n",
        "b\n",
        "(Xbθ − y)\n",
        "We iterate this process for a specified number of iterations.\n",
        "The final optimized parameters are:\n",
        "\n",
        "4\n",
        "\n",
        "θ =\n",
        "\n",
        "θ0\n",
        "θ1\n",
        "\n",
        "\n",
        "The gradient descent optimization process can be coded in Python as\n",
        "follows:\n"
      ],
      "metadata": {
        "id": "ShprM446d46o"
      }
    },
    {
      "cell_type": "code",
      "source": [
        "# Generate some sample data\n",
        "np.random.seed(0)\n",
        "X = 2 * np.random.rand(100, 1)\n",
        "y = 4 + 3 * X + np.random.randn(100, 1)\n",
        "# Add bias term to X\n",
        "X_b = np.c_[np.ones((100, 1)), X]\n",
        "# Hyperparameters\n",
        "learning_rate = 0.1\n",
        "n_iterations = 1000\n",
        "# Initialize the parameters\n",
        "theta = np.random.randn(2, 1)\n",
        "# Gradient Descent\n",
        "for iteration in range(n_iterations):\n",
        "  gradients = 2 / 100 * X_b.T.dot(X_b.dot(theta) - y)\n",
        "theta = theta - learning_rate * gradients\n",
        "print(\"Final theta:\", theta)"
      ],
      "metadata": {
        "colab": {
          "base_uri": "https://localhost:8080/"
        },
        "id": "5PIobeRxd9cN",
        "outputId": "cb4a4744-c2ae-4def-f26c-a4c309760303"
      },
      "execution_count": 12,
      "outputs": [
        {
          "output_type": "stream",
          "name": "stdout",
          "text": [
            "Final theta: [[1.38265175]\n",
            " [0.55601183]]\n"
          ]
        }
      ]
    },
    {
      "cell_type": "code",
      "source": [
        "#2 Examples: Python functions and classes\n",
        "#1. Simple Function:\n",
        "def greet(name):\n",
        "  return \"Hello, \" + name + \"!\"\n",
        "\n",
        "print(greet(\"Ana\")) # Output: Hello, Ana!\n",
        "#2. Function with Parameters and Return:\n",
        "def add_numbers(a, b):\n",
        "  sum = a + b\n",
        "  return sum\n",
        "result = add_numbers(5, 7)\n",
        "print(result) # Output: 12\n",
        "\n",
        "\n",
        "#3. Function with Default Parameter:\n",
        "def power(base, exponent=2):\n",
        "  return base ** exponent\n",
        "print(power(3)) # Output: 9\n",
        "print(power(2, 3)) # Output: 8\n",
        "\n",
        "\n",
        "#4. Function with Multiple Returns:\n",
        "def min_max(numbers):\n",
        "  return min(numbers), max(numbers)\n",
        "\n",
        "nums = [4, 9, 2, 7, 5]\n",
        "minimum, maximum = min_max(nums)\n",
        "print(minimum, maximum) # Output: 2 9\n",
        "\n",
        "\n",
        "#5. Function with Docstring:\n",
        "def area_of_rectangle(length, width):\n",
        "  \"\"\"\n",
        "  Calculates the area of a rectangle.\n",
        "  Args:\n",
        "  length (float): The length of the rectangle.\n",
        "  width (float): The width of the rectangle.\n",
        "  Returns:\n",
        "  float: The area of the rectangle.\n",
        "  \"\"\"\n",
        "  return length * width\n",
        "\n",
        "\n",
        "#6. Creating a Simple Class:\n",
        "class Dog:\n",
        "  def __init__(self, name, age):\n",
        "    self.name = name\n",
        "    self.age = age\n",
        "  def bark(self):\n",
        "    print(f\"{self.name} is barking!\")\n",
        "\n",
        "# Create an instance of the Dog class\n",
        "dog1 = Dog(\"Buddy\", 3)\n",
        "dog1.bark() # Output: Buddy is barking!\n",
        "\n",
        "\n",
        "\n",
        "#7. Adding Methods and Attributes\n",
        "class Student:\n",
        "  def __init__(self, name, age):\n",
        "    self.name = name\n",
        "    self.age = age\n",
        "    self.grades = []\n",
        "  def add_grade(self, grade):\n",
        "    self.grades.append(grade)\n",
        "  def get_average_grade(self):\n",
        "    return sum(self.grades) / len(self.grades)\n",
        "# Create a Student instance and add grades\n",
        "student1 = Student(\"Alice\", 18)\n",
        "student1.add_grade(85)\n",
        "student1.add_grade(92)\n",
        "average_grade = student1.get_average_grade()\n",
        "print(f\"{student1.name}’s average grade: {average_grade}\")\n",
        "\n",
        "#8. Inheritance\n",
        "class Animal:\n",
        "  def __init__(self, name):\n",
        "    self.name = name\n",
        "def speak(self):\n",
        "  pass # Placeholder for subclasses to override\n",
        "class Cat(Animal):\n",
        "  def speak(self):\n",
        "    print(f\"{self.name} says Meow!\")\n",
        "class Dog(Animal):\n",
        "  def speak(self):\n",
        "    print(f\"{self.name} says Woof!\")\n",
        "# Create instances of Cat and Dog\n",
        "cat = Cat(\"Whiskers\")\n",
        "dog = Dog(\"Buddy\")\n",
        "cat.speak() # Output: Whiskers says Meow!\n",
        "dog.speak() # Output: Buddy says Woof!"
      ],
      "metadata": {
        "colab": {
          "base_uri": "https://localhost:8080/"
        },
        "id": "WaLw_d3-eSe0",
        "outputId": "68bb420c-3d0c-44b6-d6a8-2af112c140ba"
      },
      "execution_count": 13,
      "outputs": [
        {
          "output_type": "stream",
          "name": "stdout",
          "text": [
            "Hello, Ana!\n",
            "12\n",
            "9\n",
            "8\n",
            "2 9\n",
            "Buddy is barking!\n",
            "Alice’s average grade: 88.5\n",
            "Whiskers says Meow!\n",
            "Buddy says Woof!\n"
          ]
        }
      ]
    },
    {
      "cell_type": "markdown",
      "source": [
        "3 Exercises\n",
        "3.1 Indexing Arrays in NumPy\n",
        "1. Given the NumPy array arr = np.array([3, 7, 1, 9, 5]), perform\n",
        "the following indexing operations:\n",
        "  \n",
        "  a) Retrieve the third element of the array.  \n",
        "  b) Slice the array to get elements from index 1 to index 3.  \n",
        "c) Change the value of the fourth element to 12.\n"
      ],
      "metadata": {
        "id": "1kHDcIgc0w4b"
      }
    },
    {
      "cell_type": "code",
      "source": [
        "import numpy as np\n",
        "arr = np.array([3, 7, 1, 9, 5])\n",
        "\n",
        "print(\"a) Retrieve the third element of the array: \\n\",arr[2]) # Output: 1\n",
        "print()\n",
        "\n",
        "print(\"b) Slice the array to get elements from index 1 to index 3: \\n\",arr[1:4]) # Output: [7 1 9]\n",
        "print()\n",
        "\n",
        "print(\"c) Change the value of the fourth element to 12: \\n\")\n",
        "arr[3] = 12\n",
        "print(arr) # Output: [3 7 1 12 5]"
      ],
      "metadata": {
        "colab": {
          "base_uri": "https://localhost:8080/"
        },
        "id": "Rbjp_vJF1HEv",
        "outputId": "f097b00a-bea6-4820-f905-3193aa486e69"
      },
      "execution_count": 14,
      "outputs": [
        {
          "output_type": "stream",
          "name": "stdout",
          "text": [
            "a) Retrieve the third element of the array: \n",
            " 1\n",
            "\n",
            "b) Slice the array to get elements from index 1 to index 3: \n",
            " [7 1 9]\n",
            "\n",
            "c) Change the value of the fourth element to 12: \n",
            "\n",
            "[ 3  7  1 12  5]\n"
          ]
        }
      ]
    },
    {
      "cell_type": "markdown",
      "source": [
        "2. Create a 2D NumPy array matrix with the following values:\n",
        "[\n",
        "1 2 3\n",
        "4 5 6\n",
        "7 8 9\n",
        "]\n",
        "\n",
        "a) Retrieve the element in the second row and third column.  \n",
        "b) Slice the matrix to get the submatrix consisting of the first two rows\n",
        "and all columns."
      ],
      "metadata": {
        "id": "jWKQ7vUu1K8J"
      }
    },
    {
      "cell_type": "code",
      "source": [
        "import numpy as np\n",
        "matrix = np.array([[1, 2, 3],\n",
        "                   [4, 5, 6],\n",
        "                   [7, 8, 9]])\n",
        "print(\"a) Retrieve the element in the second row and third column: \\n\",matrix[1, 2]) # Output: 6\n",
        "print()\n",
        "\n",
        "print(\"b) Slice the matrix to get the submatrix consisting of the first two rows and all columns: \\n\",matrix[:2]) # Output: 1:3 , 4:6\n"
      ],
      "metadata": {
        "colab": {
          "base_uri": "https://localhost:8080/"
        },
        "id": "A6vRKIOj1VEN",
        "outputId": "5132c3c8-ecba-4d60-dc64-de154cf6644d"
      },
      "execution_count": 15,
      "outputs": [
        {
          "output_type": "stream",
          "name": "stdout",
          "text": [
            "a) Retrieve the element in the second row and third column: \n",
            " 6\n",
            "\n",
            "b) Slice the matrix to get the submatrix consisting of the first two rows and all columns: \n",
            " [[1 2 3]\n",
            " [4 5 6]]\n"
          ]
        }
      ]
    },
    {
      "cell_type": "markdown",
      "source": [
        "3.2 Indexing and Slicing Higher-Dimensional Tensors\n",
        "Consider the following 3D tensor representing a stack of matrices:\n",
        "\n",
        "tensor =\n",
        "[[\n",
        "1 2 3 4\n",
        "5 6 7 8\n",
        "9 10 11 12\n",
        "] ,\n",
        "\n",
        "[\n",
        "13 14 15 16\n",
        "17 18 19 20\n",
        "21 22 23 24\n",
        "] ,\n",
        "\n",
        "[\n",
        "25 26 27 28\n",
        "29 30 31 32\n",
        "33 34 35 36\n",
        "]]\n",
        "1. Retrieve the element at the position (1, 0, 2) within the tensor.\n",
        "2. Slice the tensor to obtain the 3 × 4 sub-tensor that corresponds to the\n",
        "second “matrix” (slice) along the first dimension.\n",
        "3. Slice the tensor to obtain the 2×4 sub-tensor that corresponds to the last\n",
        "row of the last two “matrices.”\n",
        "4. Retrieve the element at the position (2, 1, 3) within the tensor.\n",
        "5. Slice the tensor to obtain the 2×4 sub-tensor that corresponds to the first\n",
        "row of the las two “matrices.”\n",
        "Hint: Remember that in NumPy indexing, the first index corresponds to the\n",
        "outermost dimension, the second index corresponds to the next inner dimension,\n",
        "and so on."
      ],
      "metadata": {
        "id": "I2dww1lCqs4-"
      }
    },
    {
      "cell_type": "code",
      "source": [
        "\n",
        "import numpy as np\n",
        "\n",
        "tensor = np.array([\n",
        "    [  # Primer \"submatriz\" (índice 0)\n",
        "        [1, 2, 3, 4],\n",
        "        [5, 6, 7, 8],\n",
        "        [9, 10, 11, 12]\n",
        "    ],\n",
        "    [  # Segunda \"submatriz\" (índice 1)\n",
        "        [13, 14, 15, 16],\n",
        "        [17, 18, 19, 20],\n",
        "        [21, 22, 23, 24]\n",
        "    ],\n",
        "    [  # Tercera \"submatriz\" (índice 2)\n",
        "        [25, 26, 27, 28],\n",
        "        [29, 30, 31, 32],\n",
        "        [33, 34, 35, 36]\n",
        "    ]\n",
        "])\n",
        "\n",
        "#print(\"Retrieve the element at the position (1, 0, 2): \\n\", tensor[1, 0, 2]) # Output: 15\n",
        "print()\n",
        "\n",
        "#print(\"2. Slice the tensor to obtain the 3×4 sub-tensor that corresponds to the second matrix: \\n\",tensor[1]) # Output:\n",
        "\n",
        "\n",
        "print()\n",
        "\n",
        "#print(\"3. Slice the tensor to obtain the 2×4 sub-tensor that corresponds to the last row of the last two matrices: \\n\",tensor[1:3,2]) # Output:\n",
        "\n",
        "print()\n",
        "\n",
        "#print(\"4.Retrieve the element at the position (2, 1, 3): \\n\",tensor[2, 1, 3]) # Output:32\n",
        "\n",
        "print()\n",
        "\n",
        "print(\"5. Slice the tensor to obtain the 2×4 sub-tensor that corresponds to the first row of the last two matrices: \\n\",tensor[1:3,0]) # Output: 13:16,25:28"
      ],
      "metadata": {
        "id": "K4fVvv5erDO4",
        "colab": {
          "base_uri": "https://localhost:8080/"
        },
        "outputId": "acd08607-6a86-4d54-8c70-bd7b2c14e8ba"
      },
      "execution_count": 16,
      "outputs": [
        {
          "output_type": "stream",
          "name": "stdout",
          "text": [
            "\n",
            "\n",
            "\n",
            "\n",
            "5. Slice the tensor to obtain the 2×4 sub-tensor that corresponds to the first row of the last two matrices: \n",
            " [[13 14 15 16]\n",
            " [25 26 27 28]]\n"
          ]
        }
      ]
    },
    {
      "cell_type": "markdown",
      "source": [
        "3.3 Defining Functions in Python\n",
        "1. Write a Python function calculate average that takes a list of numbers\n",
        "as input and returns the average of those numbers.\n",
        "2. Define a function find power that calculates the result of a number raised\n",
        "to a given exponent. The function should have two parameters: base (the\n",
        "base number) and exponent (default value should be 2).\n"
      ],
      "metadata": {
        "id": "K0lUBtUvOBfr"
      }
    },
    {
      "cell_type": "code",
      "source": [
        "def calcular_promedio(lista_numeros):\n",
        "  #si la lista esta vaciaa\n",
        "  if not lista_numeros:\n",
        "    return 0\n",
        "\n",
        "    #  suma de los numeros\n",
        "  total = sum(lista_numeros)\n",
        "  return total / len(lista_numeros)\n",
        "#lista\n",
        "lista_de_numeros = [10, 20, 30, 40, 50]\n",
        "promedio = calcular_promedio(lista_de_numeros) # llamar a la función\n",
        "print(\"promedio: \", promedio) # output 30\n",
        "\n",
        "\n",
        "\n",
        "def find_power(base, exponent=2):\n",
        "  result = base ** exponent\n",
        "  return result\n",
        "\n",
        "base = int(input(\"Ingrese la base: \"))\n",
        "exponent = int(input(\"Ingrese el exponente : \"))\n",
        "\n",
        "resultado = find_power(base, exponent)\n",
        "print(f\"{base} raised to the power of {exponent} es: {resultado}\")\n",
        "\n"
      ],
      "metadata": {
        "colab": {
          "base_uri": "https://localhost:8080/"
        },
        "id": "IvIg2Q9DOCf2",
        "outputId": "c9f4a769-e97e-46a0-b4be-471a0fd21b64"
      },
      "execution_count": 17,
      "outputs": [
        {
          "output_type": "stream",
          "name": "stdout",
          "text": [
            "promedio:  30.0\n",
            "Ingrese la base: 2\n",
            "Ingrese el exponente : 6\n",
            "2 raised to the power of 6 es: 64\n"
          ]
        }
      ]
    },
    {
      "cell_type": "markdown",
      "source": [
        "3.4 Implementing Gradient Descent Optimization\n",
        "1. Consider the linear regression problem where you have the following data\n",
        "points:\n",
        "\n",
        "X = [1, 2, 3, 4, 5]\n",
        "y = [3, 6, 8, 11, 13]\n",
        "\n",
        "Implement a Python program using NumPy to perform gradient descent\n",
        "optimization to find the parameters θ0 and θ1 for the linear regression\n",
        "model hθ(x) = θ0 + θ1x. Use a learning rate of 0.01 and iterate for 1000\n",
        "steps.\n",
        "2. Draw in a plot the progress of the θ0 and θ1 parameters through the steps.\n",
        "3. Explain in your own words the purpose of the learning rate in gradient\n",
        "descent optimization."
      ],
      "metadata": {
        "id": "NUDGAcwpbjJg"
      }
    },
    {
      "cell_type": "code",
      "source": [
        "import numpy as np\n",
        "import matplotlib.pyplot as plt\n",
        "\n",
        "# Datos\n",
        "X = np.array([1, 2, 3, 4, 5])\n",
        "y = np.array([3, 6, 8, 11, 13])\n",
        "\n",
        "c = X * 2\n",
        "print(c)\n",
        "\n",
        "# parámetros\n",
        "theta0 = 0\n",
        "theta1 = 0\n",
        "\n",
        "# Configuración\n",
        "alpha = 0.01  # Tasa de aprendizaje\n",
        "iterations = 1000\n",
        "\n",
        "# Guardar historial de parámetros\n",
        "theta0_history = []\n",
        "theta1_history = []\n",
        "\n",
        "m = len(X)  # longitud de lista de x\n",
        "#print(m)\n",
        "\n",
        "# Descenso del gradiente\n",
        "for i in range(iterations):\n",
        "    # Predicción\n",
        "    y_pred = theta0 + theta1 * X\n",
        "\n",
        "    # Cálculo del error\n",
        "    error = y_pred - y\n",
        "\n",
        "    # Gradientes\n",
        "    d_theta0 = (1/m) * np.sum(error)\n",
        "    d_theta1 = (1/m) * np.sum(error * X)\n",
        "\n",
        "    # Actualización de los parámetros\n",
        "    theta0 -= alpha * d_theta0\n",
        "    theta1 -= alpha * d_theta1\n",
        "\n",
        "    # Almacenar los valores\n",
        "    theta0_history.append(theta0)\n",
        "    theta1_history.append(theta1)\n",
        "\n",
        "# Resultados finales\n",
        "print(f\"θ0 final: {theta0:.4f}\")\n",
        "print(f\"θ1 final: {theta1:.4f}\")\n",
        "\n",
        "# Graficar el progreso de θ0 y θ1\n",
        "plt.plot(theta0_history, label='θ0')\n",
        "plt.plot(theta1_history, label='θ1')\n",
        "plt.xlabel(\"Iteraciones\")\n",
        "plt.ylabel(\"Valor de los parámetros\")\n",
        "plt.title(\"Evolución de theta θ0 y theta θ1 con Gradiente Descendiente\")\n",
        "plt.legend()\n",
        "plt.grid(True)\n",
        "plt.show()\n"
      ],
      "metadata": {
        "colab": {
          "base_uri": "https://localhost:8080/",
          "height": 526
        },
        "id": "gu5mpU1xbnq2",
        "outputId": "e48ace89-f04a-4e7c-ffbb-cda047ab0d16"
      },
      "execution_count": 18,
      "outputs": [
        {
          "output_type": "stream",
          "name": "stdout",
          "text": [
            "[ 2  4  6  8 10]\n",
            "θ0 final: 0.6987\n",
            "θ1 final: 2.5004\n"
          ]
        },
        {
          "output_type": "display_data",
          "data": {
            "text/plain": [
              "<Figure size 640x480 with 1 Axes>"
            ],
            "image/png": "[encoded data removed]"
          },
          "metadata": {}
        }
      ]
    }
  ]
}